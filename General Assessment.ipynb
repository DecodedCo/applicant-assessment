{
 "cells": [
  {
   "cell_type": "markdown",
   "metadata": {},
   "source": [
    "# Decoded Applicant Assessment\n",
    "\n",
    "## Welcome\n",
    "\n",
    "Hello! \n",
    "\n",
    "This activity has been designed to give you a taste of what the Decoded Data Fellowship entails. It has been designed assuming no knowledge of data science or programming, but to reflect the type of work that you will be undertaking over the programme.\n",
    "\n",
    "We expect this assessment to take no longer than **15 minutes**.\n",
    "\n",
    "In this activity we will be assessing:\n",
    "    \n",
    "1. Your ability to use an unfamiliar platform/environment\n",
    "2. Your ability to read and understand written instruction\n",
    "3. Your ability to solve a mathematical challenge\n",
    "\n",
    "Once you've completed the assessment, please send a screenshot of the final challenge to fellowship@decoded.com along with any comments on how you found the assessment."
   ]
  },
  {
   "cell_type": "markdown",
   "metadata": {},
   "source": [
    "## Introduction to Jupyter\n",
    "\n",
    "You're currently looking at something called a **Jupyter Notebook**. It is a commonly used tool for data analysts and scientists to write documentation, code and run their code on real data.\n",
    "\n",
    "The content of a notebook is split into _cells_. There are different types of cells - this cell is _Markdown_, a language used for documentation. The other type of cell we'll use is a _Code_ cell.\n",
    "\n",
    "Data analysts and scientists can use any number of coding (programming) languages to extend the ability of Excel to perform powerful data analysis.\n",
    "\n",
    "Your organisation's data scientists use a language called **Python** - and you'll be learning it on this programme.\n",
    "\n",
    "For now, let's try running some code before we try a challenge."
   ]
  },
  {
   "cell_type": "code",
   "execution_count": null,
   "metadata": {
    "collapsed": true
   },
   "outputs": [],
   "source": [
    "# Code that starts with a # is a comment, ignored by the computer\n",
    "# but useful for humans to understand what the code should be doing\n",
    "\n",
    "# The below code should output a message\n",
    "# To run this cell, click on this cell, and press Shift-Enter\n",
    "\n",
    "print(\"Hello world\")"
   ]
  },
  {
   "cell_type": "code",
   "execution_count": null,
   "metadata": {
    "collapsed": true
   },
   "outputs": [],
   "source": [
    "# That should have output \"Hello world\". If so, let's move on\n",
    "\n",
    "# Try running the next command:\n",
    "\n",
    "print(4+7)"
   ]
  },
  {
   "cell_type": "code",
   "execution_count": null,
   "metadata": {
    "collapsed": true
   },
   "outputs": [],
   "source": [
    "# Did you get 11? If so, let's continue. If not, you can also run a\n",
    "# cell by clicking on the Play button in the menu bar\n",
    "\n",
    "# Let's try replicating a simple Excel function:\n",
    "\n",
    "def sum_of_three_numbers(a,b,c):\n",
    "    sum = a+b+c\n",
    "    return sum\n",
    "\n",
    "# We've \"def\"ined a new \"function\" which we've called \"sum_of_three_numbers\"\n",
    "# The function calculates the \"sum\", before \"return\"ing the value\n",
    "\n",
    "# Make sure you run this cell using Shift-Enter before moving on"
   ]
  },
  {
   "cell_type": "code",
   "execution_count": null,
   "metadata": {
    "collapsed": true
   },
   "outputs": [],
   "source": [
    "# Let's try running it:\n",
    "\n",
    "sum_of_three_numbers(1,2,3)"
   ]
  },
  {
   "cell_type": "markdown",
   "metadata": {},
   "source": [
    "Did you get 6? If so, carry on"
   ]
  },
  {
   "cell_type": "markdown",
   "metadata": {},
   "source": [
    "## Simple mathematical challenge\n",
    "\n",
    "Based on the `sum_of_three_numbers` function, complete the code below to define a `mean_of_three_numbers` function that calculates the arithmetic mean of 1,2,3:"
   ]
  },
  {
   "cell_type": "code",
   "execution_count": null,
   "metadata": {
    "collapsed": true
   },
   "outputs": [],
   "source": [
    "# Define your function below:\n",
    "def mean_of_three_numbers(a,b,c):\n",
    "    # add your code here, indented at this level\n",
    "\n",
    "\n",
    "# Run your function using 1,2,3:\n",
    "mean_of_three_numbers(1,2,3)"
   ]
  },
  {
   "cell_type": "markdown",
   "metadata": {},
   "source": [
    "What number did you get? \n",
    "\n",
    "Take a screenshot at this point, and email it to fellowship@decoded.com.\n",
    "\n",
    "That's it!"
   ]
  },
  {
   "cell_type": "code",
   "execution_count": null,
   "metadata": {
    "collapsed": true
   },
   "outputs": [],
   "source": []
  }
 ],
 "metadata": {
  "kernelspec": {
   "display_name": "Python 3",
   "language": "python",
   "name": "python3"
  },
  "language_info": {
   "codemirror_mode": {
    "name": "ipython",
    "version": 2
   },
   "file_extension": ".py",
   "mimetype": "text/x-python",
   "name": "python",
   "nbconvert_exporter": "python",
   "pygments_lexer": "ipython2",
   "version": "2.7.13rc1"
  }
 },
 "nbformat": 4,
 "nbformat_minor": 2
}
